{
 "cells": [
  {
   "cell_type": "code",
   "execution_count": 1,
   "metadata": {
    "collapsed": true
   },
   "outputs": [],
   "source": [
    "\"\"\"\n",
    "Example in CliffWalking, using the TD Models.\n",
    "\"\"\"\n",
    "import sys\n",
    "sys.path.append(\"..\")\n",
    "\n",
    "import gym\n",
    "import matplotlib.pyplot as plt\n",
    "import numpy as np\n",
    "\n",
    "from td import FiniteQLearningModel as QLearning\n",
    "from td import FiniteSarsaModel as Sarsa\n",
    "\n",
    "env = gym.make(\"CliffWalking-v0\")\n",
    "\n",
    "\n",
    "# WARNING: If you try to set eps to a very low value,\n",
    "# And you attempt to get the m.score() of m.pi, there may not\n",
    "# be guarranteed convergence.\n",
    "eps = 10000\n",
    "S = 4*12\n",
    "A = 4\n",
    "START_EPS = 0.7\n",
    "q = QLearning(S, A, epsilon=START_EPS)\n",
    "sarsa = Sarsa(S, A, epsilon=START_EPS)\n",
    "\n",
    "def run_model(m):\n",
    "    for i in range(1, eps+1):\n",
    "        ep = []\n",
    "        prev_observation = env.reset()\n",
    "        prev_action = m.choose_action(m.b, prev_observation)\n",
    "\n",
    "        while True:        \n",
    "            # Run simulation\n",
    "            next_observation, reward, done, _ = env.step(prev_action)\n",
    "            next_action = m.choose_action(m.b, next_observation)\n",
    "\n",
    "            m.update_Q((prev_observation, prev_action, reward, next_observation, next_action))\n",
    "\n",
    "            prev_observation = next_observation\n",
    "            prev_action = next_action\n",
    "\n",
    "            if done:\n",
    "                break\n",
    "        # Decaying epsilon, reach optimal policy\n",
    "        if not isinstance(m, QLearning):\n",
    "            m.epsilon = START_EPS*(eps-i)/eps\n",
    "    print(\"Final expected returns : {}\".format(m.score(env, m.pi, n_samples=10)))"
   ]
  },
  {
   "cell_type": "code",
   "execution_count": 2,
   "metadata": {},
   "outputs": [
    {
     "name": "stdout",
     "output_type": "stream",
     "text": [
      "Final expected returns : -13.0\n"
     ]
    }
   ],
   "source": [
    "run_model(q)"
   ]
  },
  {
   "cell_type": "code",
   "execution_count": 3,
   "metadata": {},
   "outputs": [
    {
     "name": "stdout",
     "output_type": "stream",
     "text": [
      "Final expected returns : -17.0\n"
     ]
    }
   ],
   "source": [
    "run_model(sarsa)"
   ]
  }
 ],
 "metadata": {
  "kernelspec": {
   "display_name": "Python 3",
   "language": "python",
   "name": "python3"
  },
  "language_info": {
   "codemirror_mode": {
    "name": "ipython",
    "version": 3
   },
   "file_extension": ".py",
   "mimetype": "text/x-python",
   "name": "python",
   "nbconvert_exporter": "python",
   "pygments_lexer": "ipython3",
   "version": "3.6.1"
  }
 },
 "nbformat": 4,
 "nbformat_minor": 2
}
